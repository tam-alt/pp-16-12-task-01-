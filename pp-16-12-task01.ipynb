{
  "cells": [
    {
      "cell_type": "markdown",
      "source": [
        "##14_Student_marks_grade\n",
        "\n",
        "### Introduction: Student Marks and Grades Management System\n",
        "\n",
        "This program is a Python-based solution for managing and analyzing student marks and grades. It allows users to add, update, delete, and search student records while automatically calculating grades and total marks. With features like class performance analysis, data visualization, and a menu-driven interface, the system provides an efficient way to handle student data and gain meaningful insights. It is built using `pandas`, `matplotlib`, and `re` for seamless data management and presentation.\n",
        "\n",
        "---"
      ],
      "metadata": {
        "id": "ZscpfLAeS7WL"
      }
    },
    {
      "cell_type": "code",
      "execution_count": null,
      "metadata": {
        "id": "aX1LWb-S84cD"
      },
      "outputs": [],
      "source": [
        "import pandas as pd\n",
        "import numpy as np\n",
        "import matplotlib.pyplot as plt\n",
        "import re\n",
        "import os\n",
        "\n",
        "# 1. Data Initialization: Create a CSV file to store initial student data.\n",
        "data = {\n",
        "    'Student ID': ['ST-001', 'ST-002', 'ST-003'],\n",
        "    'Name': ['Alice', 'Bob', 'Charlie'],\n",
        "    'Math': [85, 90, 75],\n",
        "    'English': [88, 70, 92],\n",
        "    'Science': [79, 85, 67],\n",
        "    'Marks': [0, 0, 0],  # Placeholder for total marks\n",
        "    'Grade': ['A', 'A', 'B']  # Placeholder for grade\n",
        "}\n",
        "\n",
        "# Convert to DataFrame\n",
        "df = pd.DataFrame(data)\n",
        "\n",
        "# Save to CSV file (initial file)\n",
        "if not os.path.exists('students_data.csv'):\n",
        "    df.to_csv('students_data.csv', index=False)\n",
        "else:\n",
        "    df = pd.read_csv('students_data.csv')"
      ]
    },
    {
      "cell_type": "markdown",
      "source": [
        "##Data Initialization:\n",
        "\n",
        "Storing Initial Student Data\n",
        "This code initializes a student dataset with basic information, such as student IDs, names, and marks in various subjects (Math, English, and Science).\n",
        "A placeholder is created for total marks (Marks) and grades (Grade).\n",
        "The dataset is converted into a CSV file (students_data.csv), so the data can be reused later.\n",
        "If the file already exists, the script will load the existing data instead of overwriting it.\n"
      ],
      "metadata": {
        "id": "l-gdGEp2ReXY"
      }
    },
    {
      "cell_type": "code",
      "execution_count": null,
      "metadata": {
        "id": "_VUSNJgT88tC"
      },
      "outputs": [],
      "source": [
        "# 2. Student Record Management Functions\n",
        "def add_student(student_id, name, marks):\n",
        "    global df\n",
        "    new_student = pd.DataFrame({\n",
        "        'Student ID': [student_id],\n",
        "        'Name': [name],\n",
        "        'Math': [marks[0]],\n",
        "        'English': [marks[1]],\n",
        "        'Science': [marks[2]],\n",
        "        'Marks': [sum(marks)],\n",
        "        'Grade': [calculate_grade(sum(marks))]\n",
        "    })\n",
        "    df = pd.concat([df, new_student], ignore_index=True)\n",
        "    df.to_csv('students_data.csv', index=False)\n",
        "\n",
        "def update_student(student_id, marks):\n",
        "    global df\n",
        "    student = df[df['Student ID'] == student_id]\n",
        "    if not student.empty:\n",
        "        df.loc[df['Student ID'] == student_id, ['Math', 'English', 'Science']] = marks\n",
        "        df.loc[df['Student ID'] == student_id, 'Marks'] = sum(marks)\n",
        "        df.loc[df['Student ID'] == student_id, 'Grade'] = calculate_grade(sum(marks))\n",
        "        df.to_csv('students_data.csv', index=False)\n",
        "    else:\n",
        "        print(\"Student ID not found.\")\n",
        "\n",
        "def delete_student(student_id):\n",
        "    global df\n",
        "    df = df[df['Student ID'] != student_id]\n",
        "    df.to_csv('students_data.csv', index=False)"
      ]
    },
    {
      "cell_type": "markdown",
      "source": [
        "##Student Record Management Functions\n",
        "\n",
        "This section introduces functions to manage student records in the dataset efficiently. Below are the functions and their roles:\n",
        "\n",
        "add_student(student_id, name, marks)\n",
        "\n",
        "Adds a new student record to the dataset.\n",
        "Parameters:\n",
        "student_id: Unique identifier for the student.\n",
        "name: Name of the student.\n",
        "marks: List of marks in Math, English, and Science.\n",
        "Automatically calculates the total marks and assigns a grade.\n",
        "Updates the CSV file to include the new student.\n",
        "update_student(student_id, marks)\n",
        "\n",
        "Updates the marks of an existing student using their student_id.\n",
        "Parameters:\n",
        "student_id: Unique identifier for the student.\n",
        "marks: Updated list of marks in Math, English, and Science.\n",
        "Recalculates total marks and grade after updating.\n",
        "Saves changes back to the CSV file.\n",
        "If the student_id is not found, a message is displayed.\n",
        "delete_student(student_id)\n",
        "\n",
        "Deletes a student record from the dataset using their student_id.\n",
        "Updates the CSV file to reflect the changes.\n",
        "These functions ensure efficient addition, modification, and deletion of student records while keeping the data consistent.\n",
        "\n"
      ],
      "metadata": {
        "id": "f2zAVbBRRvb0"
      }
    },
    {
      "cell_type": "code",
      "execution_count": null,
      "metadata": {
        "id": "ETQ3g1Id9EtS"
      },
      "outputs": [],
      "source": [
        "# 3. Grade Calculation\n",
        "def calculate_grade(marks):\n",
        "    if marks >= 90:\n",
        "        return 'A'\n",
        "    elif marks >= 80:\n",
        "        return 'B'\n",
        "    elif marks >= 70:\n",
        "        return 'C'\n",
        "    else:\n",
        "        return 'F'\n",
        "\n"
      ]
    },
    {
      "cell_type": "markdown",
      "source": [
        "##Grade Calculation Function\n",
        "\n",
        "calculate_grade(marks)\n",
        "\n",
        "This function determines a student's grade based on their total marks.\n",
        "Grading criteria:\n",
        "A: Marks 90 or above\n",
        "B: Marks between 80 and 89\n",
        "C: Marks between 70 and 79\n",
        "F: Marks below 70\n",
        "This function is used by the student management functions to assign or update grades automatically when marks are added or modified."
      ],
      "metadata": {
        "id": "kCTck830Quyn"
      }
    },
    {
      "cell_type": "code",
      "execution_count": null,
      "metadata": {
        "id": "QAZ4N-A39H3y"
      },
      "outputs": [],
      "source": [
        "# 4. Class Performance Analysis\n",
        "def class_performance_analysis():\n",
        "    global df\n",
        "    avg_marks = df[['Math', 'English', 'Science']].mean()\n",
        "    print(f\"Average Marks Per Subject: \\n{avg_marks}\")\n",
        "\n",
        "    top_scorer = df[['Student ID', 'Name', 'Math', 'English', 'Science']].max()\n",
        "    lowest_scorer = df[['Student ID', 'Name', 'Math', 'English', 'Science']].min()\n",
        "\n",
        "    print(f\"\\nTop Scorer:\\n{top_scorer}\")\n",
        "    print(f\"\\nLowest Scorer:\\n{lowest_scorer}\")\n",
        "\n",
        "    pass_percentage = len(df[df['Grade'] != 'F']) / len(df) * 100\n",
        "    print(f\"\\nPass Percentage: {pass_percentage}%\")"
      ]
    },
    {
      "cell_type": "markdown",
      "source": [
        "##Class Performance Analysis\n",
        "\n",
        "class_performance_analysis()\n",
        "\n",
        "This function provides insights into the overall performance of the class by analyzing the dataset. Key features include:\n",
        "\n",
        "Average Marks Per Subject\n",
        "\n",
        "Computes the average marks for each subject (Math, English, and Science) across all students.\n",
        "Top and Lowest Scorer\n",
        "\n",
        "Identifies the student with the highest and lowest marks in the dataset for each subject.\n",
        "Displays details like Student ID, Name, and marks in individual subjects.\n",
        "Pass Percentage\n",
        "\n",
        "Calculates the percentage of students who passed (grades other than 'F').\n",
        "The function outputs this analysis in a readable format to give a quick overview of class performance."
      ],
      "metadata": {
        "id": "5FfCS0a0RDxu"
      }
    },
    {
      "cell_type": "code",
      "execution_count": null,
      "metadata": {
        "id": "K_e8SF0z9LbB"
      },
      "outputs": [],
      "source": [
        "# 5. Visualizing Data\n",
        "def plot_data():\n",
        "    global df\n",
        "    # Bar chart of average marks per subject\n",
        "    avg_marks = df[['Math', 'English', 'Science']].mean()\n",
        "    avg_marks.plot(kind='bar', title='Average Marks Per Subject')\n",
        "    plt.ylabel('Average Marks')\n",
        "    plt.show()\n",
        "\n",
        "    # Pie chart for grade distribution\n",
        "    grade_dist = df['Grade'].value_counts()\n",
        "    grade_dist.plot(kind='pie', autopct='%1.1f%%', title='Grade Distribution')\n",
        "    plt.show()\n",
        "\n",
        "    # Line graph of student marks in Math (for example)\n",
        "    df.plot(x='Name', y='Math', kind='line', marker='o', title='Student Marks in Math')\n",
        "    plt.ylabel('Marks')\n",
        "    plt.show()\n"
      ]
    },
    {
      "cell_type": "markdown",
      "source": [
        "\n",
        "\n",
        "### Visualizing Data\n",
        "\n",
        "**`plot_data()`**\n",
        "\n",
        "This function creates visualizations to analyze class performance:  \n",
        "1. **Bar Chart**: Displays average marks per subject.  \n",
        "2. **Pie Chart**: Shows the grade distribution among students.  \n",
        "3. **Line Graph**: Plots individual student marks in Math for trend analysis.  \n",
        "\n",
        "These visualizations provide a clear and interactive way to understand the data.\n",
        "\n"
      ],
      "metadata": {
        "id": "lM5FdFZLROO5"
      }
    },
    {
      "cell_type": "code",
      "execution_count": null,
      "metadata": {
        "id": "kZLROmrJ9Oqy"
      },
      "outputs": [],
      "source": [
        "# 6. Searching and Filtering\n",
        "def search_student(student_id=None, name=None):\n",
        "    global df\n",
        "    if student_id:\n",
        "        student = df[df['Student ID'] == student_id]\n",
        "        print(student)\n",
        "    elif name:\n",
        "        student = df[df['Name'] == name]\n",
        "        print(student)\n",
        "\n",
        "def filter_by_grade(grade):\n",
        "    global df\n",
        "    filtered = df[df['Grade'] == grade]\n",
        "    print(filtered)\n",
        "\n",
        "def failed_students():\n",
        "    global df\n",
        "    failed = df[df[['Math', 'English', 'Science']].min(axis=1) < 70]\n",
        "    print(failed)"
      ]
    },
    {
      "cell_type": "markdown",
      "source": [
        "\n",
        "\n",
        "### Searching and Filtering\n",
        "\n",
        "This section provides functions to retrieve specific student records or filter data based on conditions:\n",
        "\n",
        "1. **`search_student(student_id=None, name=None)`**  \n",
        "   - Searches for a student by their `Student ID` or `Name`.  \n",
        "   - Displays the matching record(s).\n",
        "\n",
        "2. **`filter_by_grade(grade)`**  \n",
        "   - Filters and displays students with a specific grade (e.g., 'A', 'B').\n",
        "\n",
        "3. **`failed_students()`**  \n",
        "   - Identifies and displays students who failed in at least one subject (marks < 70).\n",
        "\n",
        "These functions make it easy to query and analyze specific subsets of the dataset.\n"
      ],
      "metadata": {
        "id": "FJ6Vld-sR-Z6"
      }
    },
    {
      "cell_type": "code",
      "execution_count": null,
      "metadata": {
        "id": "OWjLFGo-9RgC"
      },
      "outputs": [],
      "source": [
        "# 7. Advanced Features (File Handling, Exception Handling, RegEx)\n",
        "def validate_student_id(student_id):\n",
        "    pattern = r\"^ST-\\d{3}$\"\n",
        "    return bool(re.match(pattern, student_id))\n"
      ]
    },
    {
      "cell_type": "markdown",
      "source": [
        "---\n",
        "\n",
        "### Advanced Features: File Handling, Exception Handling, and RegEx\n",
        "\n",
        "**`validate_student_id(student_id)`**\n",
        "\n",
        "- **Purpose**: Validates the format of a given student ID using Regular Expressions (RegEx).  \n",
        "- **Validation Rule**:  \n",
        "  - The ID must follow the pattern: `ST-` followed by exactly **three digits** (e.g., `ST-001`, `ST-123`).  \n",
        "- **Returns**:  \n",
        "  - `True` if the student ID is valid.  \n",
        "  - `False` if the format is incorrect.\n",
        "\n",
        "This function ensures data integrity by enforcing consistent student ID formats.\n",
        "\n",
        "---"
      ],
      "metadata": {
        "id": "p9pXf6luSnZl"
      }
    },
    {
      "cell_type": "code",
      "execution_count": null,
      "metadata": {
        "colab": {
          "base_uri": "https://localhost:8080/"
        },
        "id": "_h9WsD3t9WEi",
        "outputId": "3034fa15-cd83-4265-b3cc-c177475186dc"
      },
      "outputs": [
        {
          "output_type": "stream",
          "name": "stdout",
          "text": [
            "\n",
            "Student Record Management Menu:\n",
            "1. Add a Student\n",
            "2. Update Student Marks\n",
            "3. Delete Student Record\n",
            "4. View Class Performance\n",
            "5. Visualize Data\n",
            "6. Search Student\n",
            "7. Filter Students by Grade\n",
            "8. Show Students Who Failed\n",
            "9. Exit\n"
          ]
        }
      ],
      "source": [
        "# 8. User Interaction (Menu-driven program)\n",
        "def menu():\n",
        "    while True:\n",
        "        print(\"\\nStudent Record Management Menu:\")\n",
        "        print(\"1. Add a Student\")\n",
        "        print(\"2. Update Student Marks\")\n",
        "        print(\"3. Delete Student Record\")\n",
        "        print(\"4. View Class Performance\")\n",
        "        print(\"5. Visualize Data\")\n",
        "        print(\"6. Search Student\")\n",
        "        print(\"7. Filter Students by Grade\")\n",
        "        print(\"8. Show Students Who Failed\")\n",
        "        print(\"9. Exit\")\n",
        "\n",
        "        choice = input(\"Enter your choice (1-9): \")\n",
        "\n",
        "        if choice == '1':\n",
        "            student_id = input(\"Enter Student ID (e.g., ST-004): \")\n",
        "            name = input(\"Enter Student Name: \")\n",
        "            marks = list(map(int, input(\"Enter marks for Math, English, Science (comma-separated): \").split(',')))\n",
        "            if validate_student_id(student_id):\n",
        "                add_student(student_id, name, marks)\n",
        "            else:\n",
        "                print(\"Invalid Student ID format. Use 'ST-xxx'.\")\n",
        "        elif choice == '2':\n",
        "            student_id = input(\"Enter Student ID to Update: \")\n",
        "            marks = list(map(int, input(\"Enter new marks for Math, English, Science (comma-separated): \").split(',')))\n",
        "            update_student(student_id, marks)\n",
        "        elif choice == '3':\n",
        "            student_id = input(\"Enter Student ID to Delete: \")\n",
        "            delete_student(student_id)\n",
        "        elif choice == '4':\n",
        "            class_performance_analysis()\n",
        "        elif choice == '5':\n",
        "            plot_data()\n",
        "        elif choice == '6':\n",
        "            student_id = input(\"Enter Student ID to Search (leave blank to search by name): \")\n",
        "            name = None\n",
        "            if not student_id:\n",
        "                name = input(\"Enter Student Name to Search: \")\n",
        "            search_student(student_id, name)\n",
        "        elif choice == '7':\n",
        "            grade = input(\"Enter Grade to Filter by (A, B, C, F): \")\n",
        "            filter_by_grade(grade)\n",
        "        elif choice == '8':\n",
        "            failed_students()\n",
        "        elif choice == '9':\n",
        "            print(\"Exiting...\")\n",
        "            break\n",
        "        else:\n",
        "            print(\"Invalid choice. Please try again.\")\n",
        "\n",
        "# Run the menu-driven program\n",
        "menu()"
      ]
    },
    {
      "cell_type": "markdown",
      "source": [
        "---\n",
        "\n",
        "### User Interaction: Menu-Driven Program\n",
        "\n",
        "**`menu()`**\n",
        "\n",
        "This function provides a user-friendly interface for managing student records. Users can interact with the program by selecting options from the menu:\n",
        "\n",
        "1. **Add a Student**: Add a new student's details after validating the student ID.  \n",
        "2. **Update Student Marks**: Modify marks for an existing student.  \n",
        "3. **Delete Student Record**: Remove a student's record permanently.  \n",
        "4. **View Class Performance**: Analyze overall class performance with key metrics.  \n",
        "5. **Visualize Data**: Generate charts for better data insights.  \n",
        "6. **Search Student**: Find a student by ID or name.  \n",
        "7. **Filter Students by Grade**: Display all students with a specific grade.  \n",
        "8. **Show Students Who Failed**: List students who failed in at least one subject.  \n",
        "9. **Exit**: Exit the program.\n",
        "\n",
        "**Key Features**:\n",
        "- Input validation (e.g., student ID format).\n",
        "- Dynamic interaction with the dataset.\n",
        "- Easy navigation through a numbered menu.\n",
        "\n",
        "This menu-driven approach ensures an intuitive and seamless experience for managing student records.\n",
        "\n",
        "---"
      ],
      "metadata": {
        "id": "8q3eJ8VSSxHJ"
      }
    }
  ],
  "metadata": {
    "colab": {
      "provenance": []
    },
    "kernelspec": {
      "display_name": "Python 3",
      "name": "python3"
    },
    "language_info": {
      "name": "python"
    }
  },
  "nbformat": 4,
  "nbformat_minor": 0
}